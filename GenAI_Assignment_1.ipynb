{
  "nbformat": 4,
  "nbformat_minor": 0,
  "metadata": {
    "colab": {
      "provenance": [],
      "authorship_tag": "ABX9TyNDTDPc17Ach/QKQheQfSmT",
      "include_colab_link": true
    },
    "kernelspec": {
      "name": "python3",
      "display_name": "Python 3"
    },
    "language_info": {
      "name": "python"
    }
  },
  "cells": [
    {
      "cell_type": "markdown",
      "metadata": {
        "id": "view-in-github",
        "colab_type": "text"
      },
      "source": [
        "<a href=\"https://colab.research.google.com/github/Manideep7981/GENERATIVE-AI_2025/blob/main/GenAI_Assignment_1.ipynb\" target=\"_parent\"><img src=\"https://colab.research.google.com/assets/colab-badge.svg\" alt=\"Open In Colab\"/></a>"
      ]
    },
    {
      "cell_type": "code",
      "execution_count": 2,
      "metadata": {
        "colab": {
          "base_uri": "https://localhost:8080/"
        },
        "id": "b8NLAa8cOwm6",
        "outputId": "b59c43e0-305e-4337-b8e4-34f770887eb3"
      },
      "outputs": [
        {
          "output_type": "stream",
          "name": "stdout",
          "text": [
            "Manual Calculations:\n",
            "Mean Absolute Error (MAE): 0.4600000000000016\n",
            "Mean Squared Error (MSE): 0.24600000000000147\n",
            "Root Mean Squared Error (RMSE): 0.49598387070549127\n",
            "\n",
            "Using Libraries:\n",
            "Mean Absolute Error (MAE): 0.4600000000000016\n",
            "Mean Squared Error (MSE): 0.24600000000000147\n",
            "Root Mean Squared Error (RMSE): 0.49598387070549127\n"
          ]
        }
      ],
      "source": [
        "import numpy as np\n",
        "from sklearn.metrics import mean_absolute_error, mean_squared_error\n",
        "\n",
        "\n",
        "YActual = [20, 30, 40, 50, 60]\n",
        "YPred = [20.5, 30.3, 40.2, 50.6, 60.7]\n",
        "\n",
        "\n",
        "def calculate_metrics(y_actual, y_pred):\n",
        "\n",
        "    mae = sum(abs(a - p) for a, p in zip(y_actual, y_pred)) / len(y_actual)\n",
        "\n",
        "\n",
        "    mse = sum((a - p) ** 2 for a, p in zip(y_actual, y_pred)) / len(y_actual)\n",
        "\n",
        "\n",
        "    rmse = mse ** 0.5\n",
        "\n",
        "    return mae, mse, rmse\n",
        "\n",
        "\n",
        "mae_manual, mse_manual, rmse_manual = calculate_metrics(YActual, YPred)\n",
        "\n",
        "\n",
        "mae_lib = mean_absolute_error(YActual, YPred)\n",
        "mse_lib = mean_squared_error(YActual, YPred)\n",
        "rmse_lib = np.sqrt(mse_lib)\n",
        "\n",
        "\n",
        "print(\"Manual Calculations:\")\n",
        "print(f\"Mean Absolute Error (MAE): {mae_manual}\")\n",
        "print(f\"Mean Squared Error (MSE): {mse_manual}\")\n",
        "print(f\"Root Mean Squared Error (RMSE): {rmse_manual}\")\n",
        "\n",
        "print(\"\\nUsing Libraries:\")\n",
        "print(f\"Mean Absolute Error (MAE): {mae_lib}\")\n",
        "print(f\"Mean Squared Error (MSE): {mse_lib}\")\n",
        "print(f\"Root Mean Squared Error (RMSE): {rmse_lib}\")"
      ]
    },
    {
      "cell_type": "code",
      "source": [
        "import numpy as np\n",
        "from sklearn.metrics import accuracy_score, precision_score, recall_score, f1_score, classification_report\n",
        "\n",
        "YActual = [0, 0, 0, 0, 0]\n",
        "YPred = [0, 0, 1, 2, 2]\n",
        "\n",
        "\n",
        "def calculate_metrics(y_actual, y_pred):\n",
        "    classes = np.unique(y_actual + y_pred)\n",
        "    tp = {cls: 0 for cls in classes}\n",
        "    fp = {cls: 0 for cls in classes}\n",
        "    fn = {cls: 0 for cls in classes}\n",
        "\n",
        "    for actual, pred in zip(y_actual, y_pred):\n",
        "        if actual == pred:\n",
        "            tp[actual] += 1\n",
        "        else:\n",
        "            fp[pred] += 1\n",
        "            fn[actual] += 1\n",
        "\n",
        "    metrics = {}\n",
        "    for cls in classes:\n",
        "        precision = tp[cls] / (tp[cls] + fp[cls]) if (tp[cls] + fp[cls]) > 0 else 0\n",
        "        recall = tp[cls] / (tp[cls] + fn[cls]) if (tp[cls] + fn[cls]) > 0 else 0\n",
        "        f1 = (2 * precision * recall) / (precision + recall) if (precision + recall) > 0 else 0\n",
        "        metrics[cls] = {\"Precision\": precision, \"Recall\": recall, \"F1 Score\": f1}\n",
        "\n",
        "    accuracy = sum(tp.values()) / len(y_actual)\n",
        "    return accuracy, metrics\n",
        "\n",
        "\n",
        "accuracy_manual, metrics_manual = calculate_metrics(YActual, YPred)\n",
        "\n",
        "\n",
        "accuracy_lib = accuracy_score(YActual, YPred)\n",
        "precision_lib = precision_score(YActual, YPred, average=None, labels=np.unique(YActual))\n",
        "recall_lib = recall_score(YActual, YPred, average=None, labels=np.unique(YActual))\n",
        "f1_lib = f1_score(YActual, YPred, average=None, labels=np.unique(YActual))\n",
        "report_lib = classification_report(YActual, YPred, zero_division=0)\n",
        "\n",
        "\n",
        "print(\"Manual Calculation:\")\n",
        "print(f\"Accuracy: {accuracy_manual}\")\n",
        "for cls, metrics in metrics_manual.items():\n",
        "    print(f\"Class {cls}: Precision: {metrics['Precision']}, Recall: {metrics['Recall']}, F1 Score: {metrics['F1 Score']}\")\n",
        "\n",
        "print(\"\\nUsing Libraries:\")\n",
        "print(f\"Accuracy: {accuracy_lib}\")\n",
        "for idx, cls in enumerate(np.unique(YActual)):\n",
        "    print(f\"Class {cls}: Precision: {precision_lib[idx]}, Recall: {recall_lib[idx]}, F1 Score: {f1_lib[idx]}\")\n",
        "print(\"\\nDetailed Report:\\n\", report_lib)\n"
      ],
      "metadata": {
        "colab": {
          "base_uri": "https://localhost:8080/"
        },
        "id": "QnNHnsdUPJoL",
        "outputId": "4c149fe0-56bb-47bd-83d0-85fe2197176a"
      },
      "execution_count": 3,
      "outputs": [
        {
          "output_type": "stream",
          "name": "stdout",
          "text": [
            "Manual Calculation:\n",
            "Accuracy: 0.4\n",
            "Class 0: Precision: 1.0, Recall: 0.4, F1 Score: 0.5714285714285715\n",
            "Class 1: Precision: 0.0, Recall: 0, F1 Score: 0\n",
            "Class 2: Precision: 0.0, Recall: 0, F1 Score: 0\n",
            "\n",
            "Using Libraries:\n",
            "Accuracy: 0.4\n",
            "Class 0: Precision: 1.0, Recall: 0.4, F1 Score: 0.5714285714285714\n",
            "\n",
            "Detailed Report:\n",
            "               precision    recall  f1-score   support\n",
            "\n",
            "           0       1.00      0.40      0.57         5\n",
            "           1       0.00      0.00      0.00         0\n",
            "           2       0.00      0.00      0.00         0\n",
            "\n",
            "    accuracy                           0.40         5\n",
            "   macro avg       0.33      0.13      0.19         5\n",
            "weighted avg       1.00      0.40      0.57         5\n",
            "\n"
          ]
        }
      ]
    }
  ]
}